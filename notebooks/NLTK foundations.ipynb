{
 "cells": [
  {
   "cell_type": "code",
   "execution_count": 4,
   "id": "e8455961",
   "metadata": {},
   "outputs": [
    {
     "name": "stderr",
     "output_type": "stream",
     "text": [
      "[nltk_data] Downloading package stopwords to\n",
      "[nltk_data]     /home/ec2-user/nltk_data...\n",
      "[nltk_data]   Package stopwords is already up-to-date!\n"
     ]
    }
   ],
   "source": [
    "import nltk\n",
    "from nltk.corpus import stopwords\n",
    "from nltk.stem import PorterStemmer\n",
    "from sklearn.feature_extraction.text import CountVectorizer, TfidfVectorizer\n",
    "import pandas as pd\n",
    "import re\n",
    "import string\n",
    "\n",
    "# If you haven't downloaded the NLTK stopword package, you will need to do so\n",
    "nltk.download('stopwords')\n",
    "\n",
    "# Sample text\n",
    "documents = [\"I like this movie, it's funny.\", \"I hate this movie.\", \"This was awesome! I like it.\", \"Nice one. I love it.\"]\n"
   ]
  },
  {
   "cell_type": "code",
   "execution_count": 5,
   "id": "6c9b13b7",
   "metadata": {},
   "outputs": [
    {
     "data": {
      "text/plain": [
       "['i like this movie  it s funny ',\n",
       " 'i hate this movie ',\n",
       " 'this was awesome  i like it ',\n",
       " 'nice one  i love it ']"
      ]
     },
     "execution_count": 5,
     "metadata": {},
     "output_type": "execute_result"
    }
   ],
   "source": [
    "# Text preprocessing steps - remove numbers, captial letters and punctuation\n",
    "alphanumeric = lambda x: re.sub('\\w*\\d\\w*', ' ', x)\n",
    "punc_lower = lambda x: re.sub('[%s]' % re.escape(string.punctuation), ' ', x.lower())\n",
    "\n",
    "documents = [alphanumeric(document) for document in documents]\n",
    "documents = [punc_lower(document) for document in documents]\n",
    "documents"
   ]
  },
  {
   "cell_type": "code",
   "execution_count": 6,
   "id": "0af44341",
   "metadata": {},
   "outputs": [
    {
     "data": {
      "text/plain": [
       "[['i', 'like', 'this', 'movie', 'it', 's', 'funny'],\n",
       " ['i', 'hate', 'this', 'movie'],\n",
       " ['this', 'was', 'awesome', 'i', 'like', 'it'],\n",
       " ['nice', 'one', 'i', 'love', 'it']]"
      ]
     },
     "execution_count": 6,
     "metadata": {},
     "output_type": "execute_result"
    }
   ],
   "source": [
    "# Tokenization\n",
    "documents = [nltk.word_tokenize(document) for document in documents]\n",
    "documents"
   ]
  },
  {
   "cell_type": "code",
   "execution_count": 8,
   "id": "742478eb",
   "metadata": {},
   "outputs": [
    {
     "data": {
      "text/plain": [
       "[['like', 'movie', 'funny'],\n",
       " ['hate', 'movie'],\n",
       " ['awesome', 'like'],\n",
       " ['nice', 'one', 'love']]"
      ]
     },
     "execution_count": 8,
     "metadata": {},
     "output_type": "execute_result"
    }
   ],
   "source": [
    "# Stopword removal\n",
    "stop_words = set(stopwords.words('english'))\n",
    "documents = [[word for word in document if not word in stop_words] for document in documents]\n",
    "documents"
   ]
  },
  {
   "cell_type": "code",
   "execution_count": 9,
   "id": "5e539d4d",
   "metadata": {},
   "outputs": [
    {
     "data": {
      "text/plain": [
       "[['like', 'movi', 'funni'],\n",
       " ['hate', 'movi'],\n",
       " ['awesom', 'like'],\n",
       " ['nice', 'one', 'love']]"
      ]
     },
     "execution_count": 9,
     "metadata": {},
     "output_type": "execute_result"
    }
   ],
   "source": [
    "# Stemming\n",
    "stemmer = PorterStemmer()\n",
    "documents = [[stemmer.stem(word) for word in document] for document in documents]\n",
    "documents"
   ]
  },
  {
   "cell_type": "code",
   "execution_count": 10,
   "id": "c7e6c4ac",
   "metadata": {},
   "outputs": [
    {
     "data": {
      "text/plain": [
       "['like movi funni', 'hate movi', 'awesom like', 'nice one love']"
      ]
     },
     "execution_count": 10,
     "metadata": {},
     "output_type": "execute_result"
    }
   ],
   "source": [
    "# Join words back to document\n",
    "documents = [\" \".join(document) for document in documents]\n",
    "documents"
   ]
  },
  {
   "cell_type": "code",
   "execution_count": 11,
   "id": "fe05bc19",
   "metadata": {},
   "outputs": [
    {
     "name": "stdout",
     "output_type": "stream",
     "text": [
      "   awesom  funni  hate  like  love  movi  nice  one\n",
      "0       0      1     0     1     0     1     0    0\n",
      "1       0      0     1     0     0     1     0    0\n",
      "2       1      0     0     1     0     0     0    0\n",
      "3       0      0     0     0     1     0     1    1\n"
     ]
    }
   ],
   "source": [
    "# Vectorization - Bag of Words\n",
    "vectorizer = CountVectorizer()\n",
    "X = vectorizer.fit_transform(documents)\n",
    "\n",
    "# Let's see the result\n",
    "print(pd.DataFrame(X.toarray(), columns=vectorizer.get_feature_names_out()))\n"
   ]
  },
  {
   "cell_type": "code",
   "execution_count": 12,
   "id": "5130e03d",
   "metadata": {},
   "outputs": [
    {
     "name": "stdout",
     "output_type": "stream",
     "text": [
      "     awesom     funni      hate      like     love      movi     nice      one\n",
      "0  0.000000  0.667679  0.000000  0.526405  0.00000  0.526405  0.00000  0.00000\n",
      "1  0.000000  0.000000  0.785288  0.000000  0.00000  0.619130  0.00000  0.00000\n",
      "2  0.785288  0.000000  0.000000  0.619130  0.00000  0.000000  0.00000  0.00000\n",
      "3  0.000000  0.000000  0.000000  0.000000  0.57735  0.000000  0.57735  0.57735\n"
     ]
    }
   ],
   "source": [
    "# Vectorization - TF-IDF\n",
    "vectorizer = TfidfVectorizer()\n",
    "X = vectorizer.fit_transform(documents)\n",
    "\n",
    "# Let's see the result\n",
    "print(pd.DataFrame(X.toarray(), columns=vectorizer.get_feature_names_out()))"
   ]
  },
  {
   "cell_type": "code",
   "execution_count": null,
   "id": "8d3efbb4",
   "metadata": {},
   "outputs": [],
   "source": []
  }
 ],
 "metadata": {
  "kernelspec": {
   "display_name": "Python 3 (ipykernel)",
   "language": "python",
   "name": "python3"
  },
  "language_info": {
   "codemirror_mode": {
    "name": "ipython",
    "version": 3
   },
   "file_extension": ".py",
   "mimetype": "text/x-python",
   "name": "python",
   "nbconvert_exporter": "python",
   "pygments_lexer": "ipython3",
   "version": "3.10.9"
  }
 },
 "nbformat": 4,
 "nbformat_minor": 5
}
